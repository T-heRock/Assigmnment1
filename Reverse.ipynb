{
 "cells": [
  {
   "cell_type": "markdown",
   "id": "3bb1b041",
   "metadata": {},
   "source": [
    "### Reverse a String"
   ]
  },
  {
   "cell_type": "code",
   "execution_count": 1,
   "id": "5d47ad82",
   "metadata": {},
   "outputs": [
    {
     "name": "stdout",
     "output_type": "stream",
     "text": [
      "Enter a string:Edyoda\n",
      "adoydE\n"
     ]
    }
   ],
   "source": [
    "n=(input(\"Enter a string:\"))\n",
    "n=n[::-1]\n",
    "print(n)"
   ]
  },
  {
   "cell_type": "code",
   "execution_count": null,
   "id": "1d3db9c1",
   "metadata": {},
   "outputs": [],
   "source": []
  }
 ],
 "metadata": {
  "kernelspec": {
   "display_name": "Python 3",
   "language": "python",
   "name": "python3"
  },
  "language_info": {
   "codemirror_mode": {
    "name": "ipython",
    "version": 3
   },
   "file_extension": ".py",
   "mimetype": "text/x-python",
   "name": "python",
   "nbconvert_exporter": "python",
   "pygments_lexer": "ipython3",
   "version": "3.8.8"
  }
 },
 "nbformat": 4,
 "nbformat_minor": 5
}
