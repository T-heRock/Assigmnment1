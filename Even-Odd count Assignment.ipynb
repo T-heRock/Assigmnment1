{
 "cells": [
  {
   "cell_type": "markdown",
   "id": "794ecdd7",
   "metadata": {},
   "source": [
    "### Even and Odd numbers count"
   ]
  },
  {
   "cell_type": "code",
   "execution_count": 1,
   "id": "e9fd79da",
   "metadata": {},
   "outputs": [
    {
     "name": "stdout",
     "output_type": "stream",
     "text": [
      "Number of even numbers: 4\n",
      "Number of odd numbers:  5\n"
     ]
    }
   ],
   "source": [
    "numbers=(1,2,3,4,5,6,7,8,9)\n",
    "count=0\n",
    "count1=0\n",
    "for n in numbers:\n",
    "    if n%2==0:\n",
    "        count=count+1\n",
    "    else:\n",
    "        count1=count1+1\n",
    "print(\"Number of even numbers:\",count)\n",
    "print(\"Number of odd numbers:\",\"\",count1)\n",
    "    "
   ]
  }
 ],
 "metadata": {
  "kernelspec": {
   "display_name": "Python 3",
   "language": "python",
   "name": "python3"
  },
  "language_info": {
   "codemirror_mode": {
    "name": "ipython",
    "version": 3
   },
   "file_extension": ".py",
   "mimetype": "text/x-python",
   "name": "python",
   "nbconvert_exporter": "python",
   "pygments_lexer": "ipython3",
   "version": "3.8.8"
  }
 },
 "nbformat": 4,
 "nbformat_minor": 5
}
