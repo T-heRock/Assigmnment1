{
 "cells": [
  {
   "cell_type": "markdown",
   "id": "08e0f459",
   "metadata": {},
   "source": [
    "### Fibonacci Series\n"
   ]
  },
  {
   "cell_type": "code",
   "execution_count": 10,
   "id": "328c1466",
   "metadata": {},
   "outputs": [
    {
     "name": "stdout",
     "output_type": "stream",
     "text": [
      "1 1 2 3 5 8 13 21 34 "
     ]
    }
   ],
   "source": [
    "# Here, i = first number\n",
    "#       j=Second number\n",
    "i=0\n",
    "j=1\n",
    "for n in range(0,9):\n",
    "    if n==1:\n",
    "        k=n\n",
    "    else:\n",
    "        k=i+j\n",
    "        i=j\n",
    "        j=k\n",
    "    print(k,end=' ')"
   ]
  },
  {
   "cell_type": "markdown",
   "id": "d8743b23",
   "metadata": {},
   "source": []
  }
 ],
 "metadata": {
  "kernelspec": {
   "display_name": "Python 3",
   "language": "python",
   "name": "python3"
  },
  "language_info": {
   "codemirror_mode": {
    "name": "ipython",
    "version": 3
   },
   "file_extension": ".py",
   "mimetype": "text/x-python",
   "name": "python",
   "nbconvert_exporter": "python",
   "pygments_lexer": "ipython3",
   "version": "3.8.8"
  }
 },
 "nbformat": 4,
 "nbformat_minor": 5
}
